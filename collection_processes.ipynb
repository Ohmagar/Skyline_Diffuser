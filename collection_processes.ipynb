{
 "cells": [
  {
   "cell_type": "code",
   "execution_count": 101,
   "metadata": {},
   "outputs": [],
   "source": [
    "import numpy as np\n",
    "from prime_sieve.array import PrimeArraySieve\n",
    "import matplotlib.pyplot as plt\n",
    "import cmath\n",
    "import scipy.fft"
   ]
  },
  {
   "cell_type": "code",
   "execution_count": 52,
   "metadata": {},
   "outputs": [],
   "source": [
    "def return_matrix(arr, factor):\n",
    "    x, y = factor\n",
    "    mat = np.zeros((x,y), dtype=np.int64)\n",
    "    for i in range(x*y):\n",
    "        mat[i%x, i%y] = arr[i]\n",
    "    return mat\n",
    "\n",
    "def sequence(prime_num):\n",
    "    m = np.arange(1,prime_num)\n",
    "    n = np.zeros(prime_num-1, dtype=np.int64)\n",
    "    prime_root = np_roots(prime_num)\n",
    "    for i in range(1, prime_num):\n",
    "        n[i-1] = pow(prime_root, i, prime_num)  #n[i-1] = (prime_root ** i) % prime_num\n",
    "    return n\n",
    "\n",
    "def np_roots(number, only_lowest=True):\n",
    "    roots = []\n",
    "    for r in range(2, number):\n",
    "        k = r % number\n",
    "        for o in range(2, number):\n",
    "            k = (k*r) % number\n",
    "            if k <= 1:\n",
    "                break\n",
    "        if o == number-1:\n",
    "            roots.append(r)\n",
    "            if only_lowest:\n",
    "                return r\n",
    "    return roots\n",
    "\n",
    "def convolve_signal(sig, diffuser, normalize=True):\n",
    "    flattened_diffuser = diffuser.flatten()\n",
    "    if sig.shape[0] < flattened_diffuser.shape[0]:\n",
    "        conv = f'Signal to be convolved has {sig.shape}. It needs to be at least {flattened_diffuser.shape}.'\n",
    "    else:\n",
    "        conv = np.convolve(sig, flattened_diffuser)\n",
    "        if normalize:\n",
    "            conv = conv / np.max(np.abs(conv))\n",
    "    return conv if not isinstance(conv, str) else print(conv)\n",
    "        \n",
    "def get_well_depth(matrix, _lambda, p):\n",
    "    return matrix * (_lambda / (2 * p)) # p = p-1???\n",
    "\n",
    "def phase_change(matrix, _lambda):\n",
    "    y = np.exp(-2 * np.pi * 1j * ((2 * matrix) / _lambda))\n",
    "    y = np.angle(y)\n",
    "    return y\n",
    "\n",
    "def old_phase(matrix, _lambda):\n",
    "    return (2 * matrix) * ((2 * np.pi) / _lambda) # technically calc the same\n",
    "\n",
    "def get_lambda(fg):\n",
    "    return 343/fg\n",
    "\n",
    "def get_periods(fg, amount):\n",
    "    return (1/fg) * amount\n",
    "\n",
    "def pure_sine_wave(frequency, duration, sampling_rate, initial, periods=None):\n",
    "    if periods is not None:\n",
    "        duration = get_periods(frequency, periods)\n",
    "    phase_change = np.arange((1/frequency) * sampling_rate, dtype=int)\n",
    "    time = np.roll(np.linspace(0, duration, int(duration * sampling_rate)), -phase_change[int((phase_change.shape[0]/360)*initial)])\n",
    "    sinewave = np.sin(2 * np.pi * frequency * time)\n",
    "    return sinewave\n",
    "\n",
    "def _time_delay(depth, c=343): # \n",
    "    return (2 * depth) / c # c in m/s -> s\n",
    "\n",
    "def factor(n, min_x=1, max_x=1):\n",
    "    out = list()\n",
    "    lower = int(n / max_x) - 1\n",
    "    upper = int(n / min_x) + 1\n",
    "    if max_x == 1:\n",
    "        lower = 1\n",
    "    for i in range(*sorted((lower, upper))):\n",
    "        if np.gcd(i, n//i) <= 1:\n",
    "            out.append(((n//i), i))\n",
    "    return list(sorted(out))\n",
    "\n",
    "def get_panel_size(max_x, max_y, f_upper):\n",
    "    c = 343\n",
    "    column_width = (c / f_upper / 2) * 100\n",
    "    x_wells = max_x / column_width\n",
    "    y_wells = max_y / column_width\n",
    "    return {'x': x_wells, 'y': y_wells, 'area': x_wells * y_wells}\n",
    "    #return (max_x / column_width) * (max_y / column_width)\n",
    "    \n",
    "def reflection_factor(depth, _lambda):\n",
    "    # as written in EQ2 schroeder patent\n",
    "    return np.exp(-2 * np.pi * 1j * ((2 * depth) / _lambda))\n",
    "    \n",
    "def schroeder_grating(prime_num, width, _lambda, alpha_incidence=0, alpha_diffraction=np.arange(-90,91)):\n",
    "    return (prime_num-1) * width * ((np.sin(alpha_incidence) + np.sin(alpha_diffraction)) / _lambda)\n",
    "\n",
    "def get_unique_sequences(_range):\n",
    "    ld = {}\n",
    "    sieve = PrimeArraySieve()\n",
    "    for k in sieve.primes_in_range(_range):\n",
    "        k = int(k)\n",
    "        sn = sequence(k)\n",
    "        u, c = np.unique(sn, return_counts=True)\n",
    "        if c.shape[0]-1 == sn.shape[0] or c.shape == sn.shape:\n",
    "            ld[k] = {'unique': u, 'count': c, 'sequence': sn}\n",
    "    return ld"
   ]
  },
  {
   "cell_type": "code",
   "execution_count": 10,
   "metadata": {
    "scrolled": true
   },
   "outputs": [
    {
     "name": "stdout",
     "output_type": "stream",
     "text": [
      "19 42\n"
     ]
    },
    {
     "data": {
      "text/plain": [
       "[(50, 41),\n",
       " (53, 39),\n",
       " (56, 37),\n",
       " (59, 35),\n",
       " (61, 34),\n",
       " (65, 32),\n",
       " (67, 31),\n",
       " (71, 29),\n",
       " (77, 27),\n",
       " (83, 25),\n",
       " (90, 23),\n",
       " (109, 19)]"
      ]
     },
     "execution_count": 10,
     "metadata": {},
     "output_type": "execute_result"
    }
   ],
   "source": [
    "factor(2083-1,50,100)"
   ]
  },
  {
   "cell_type": "code",
   "execution_count": 98,
   "metadata": {},
   "outputs": [],
   "source": [
    "prime_num = 2083\n",
    "fg = 400\n",
    "_lambda = get_lambda(fg)\n",
    "factor = (71,29)\n",
    "seq = sequence(prime_num)\n",
    "mat = return_matrix(seq, factor)\n",
    "dep = get_well_depth(mat, _lambda, prime_num)\n",
    "pac = phase_change(dep, _lambda)\n",
    "opac = old_phase(dep, _lambda)\n",
    "oopac = old_phase(dep, _lambda)"
   ]
  }
 ],
 "metadata": {
  "kernelspec": {
   "display_name": "Python 3 (ipykernel)",
   "language": "python",
   "name": "python3"
  },
  "language_info": {
   "codemirror_mode": {
    "name": "ipython",
    "version": 3
   },
   "file_extension": ".py",
   "mimetype": "text/x-python",
   "name": "python",
   "nbconvert_exporter": "python",
   "pygments_lexer": "ipython3",
   "version": "3.11.0"
  }
 },
 "nbformat": 4,
 "nbformat_minor": 2
}
