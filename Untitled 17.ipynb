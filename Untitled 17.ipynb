{
 "cells": [
  {
   "cell_type": "code",
   "execution_count": 41,
   "metadata": {},
   "outputs": [],
   "source": [
    "from prime_sieve.array import PrimeArraySieve\n",
    "import numpy as np\n",
    "from collections import defaultdict\n",
    "sieve = PrimeArraySieve()\n",
    "def factor(n, min_x=1, max_x=1):\n",
    "    out = defaultdict(set)\n",
    "    lower = min((int(n / max_x) - 1, min_x))\n",
    "    upper = max((int(n / min_x) + 1, max_x))\n",
    "    if max_x == 1:\n",
    "        lower = 1\n",
    "    for i in range(*sorted((lower, upper))):\n",
    "        if np.gcd(i, int(n//i)) <= 1:\n",
    "            out[int(i * n//i)].add(tuple(sorted((i, int(n//i)))))\n",
    "    return {k: list(sorted(v)) for k,v in out.items()}\n"
   ]
  },
  {
   "cell_type": "code",
   "execution_count": 42,
   "metadata": {},
   "outputs": [
    {
     "name": "stdout",
     "output_type": "stream",
     "text": [
      "1009\n",
      "{1008: [(8, 113), (8, 115), (8, 117), (8, 119), (8, 121), (8, 123), (8, 125), (9, 101), (9, 103), (9, 104), (9, 106), (9, 107), (9, 109), (9, 110), (9, 112), (10, 93), (10, 97), (10, 99), (11, 85), (11, 86), (11, 87), (11, 89), (11, 90), (11, 91), (12, 79), (12, 83), (13, 73), (13, 74), (13, 75), (13, 76), (13, 77), (14, 69), (14, 71), (15, 64), (15, 67), (16, 61), (16, 63), (17, 57), (17, 58), (17, 59), (18, 55), (19, 51), (19, 52), (19, 53), (20, 49), (21, 46), (21, 47), (22, 45), (23, 43), (24, 41), (25, 39), (27, 37), (29, 34), (31, 32)]}\n"
     ]
    }
   ],
   "source": [
    "for i in sieve.primes_in_range(1000,1050):\n",
    "    print(i)\n",
    "    print(factor(i-1,8,8))\n",
    "    break"
   ]
  }
 ],
 "metadata": {
  "kernelspec": {
   "display_name": "Python 3 (ipykernel)",
   "language": "python",
   "name": "python3"
  },
  "language_info": {
   "codemirror_mode": {
    "name": "ipython",
    "version": 3
   },
   "file_extension": ".py",
   "mimetype": "text/x-python",
   "name": "python",
   "nbconvert_exporter": "python",
   "pygments_lexer": "ipython3",
   "version": "3.11.0"
  }
 },
 "nbformat": 4,
 "nbformat_minor": 2
}
